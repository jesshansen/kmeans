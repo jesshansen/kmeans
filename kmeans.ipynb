{
 "cells": [
  {
   "cell_type": "code",
   "execution_count": 5,
   "metadata": {},
   "outputs": [],
   "source": [
    "import pandas as pd\n",
    "import numpy as np\n",
    "from collections import Counter\n",
    "import math as math\n",
    "import scipy.spatial.distance as dist\n",
    "from sklearn.cluster import KMeans\n",
    "from sklearn.preprocessing import LabelEncoder\n",
    "from sklearn.preprocessing import MinMaxScaler\n",
    "import seaborn as sns\n",
    "import matplotlib.pyplot as plt\n",
    "%matplotlib inline\n",
    "file = pd.read_csv(\"SigGene.csv\",header = 0)\n",
    "df = pd.DataFrame(file)"
   ]
  },
  {
   "cell_type": "code",
   "execution_count": 6,
   "metadata": {},
   "outputs": [],
   "source": [
    "#print(sig_gene.head())\n",
    "#print(sig_gene.describe())"
   ]
  },
  {
   "cell_type": "code",
   "execution_count": 7,
   "metadata": {},
   "outputs": [
    {
     "name": "stdout",
     "output_type": "stream",
     "text": [
      "['ALL' 'AML']\n"
     ]
    }
   ],
   "source": [
    "class_labels = df.iloc[:,-1].unique()\n",
    "print(class_labels)"
   ]
  },
  {
   "cell_type": "code",
   "execution_count": 8,
   "metadata": {},
   "outputs": [
    {
     "name": "stdout",
     "output_type": "stream",
     "text": [
      "2\n"
     ]
    }
   ],
   "source": [
    "num_labels = class_labels.size\n",
    "print(num_labels)"
   ]
  },
  {
   "cell_type": "code",
   "execution_count": 9,
   "metadata": {},
   "outputs": [],
   "source": [
    "new_df = df.iloc[:,:-1]\n",
    "#print(new_df_sig)"
   ]
  },
  {
   "cell_type": "code",
   "execution_count": 10,
   "metadata": {},
   "outputs": [
    {
     "name": "stdout",
     "output_type": "stream",
     "text": [
      "[2, 4, 6]\n",
      "72\n",
      "69\n"
     ]
    }
   ],
   "source": [
    "k = [num_labels, num_labels *2, num_labels*3]\n",
    "print(k)\n",
    "rows, columns = new_df.shape\n",
    "print(rows)\n",
    "print(columns)"
   ]
  },
  {
   "cell_type": "code",
   "execution_count": 11,
   "metadata": {},
   "outputs": [],
   "source": [
    "max_k = num_labels *3\n",
    "centroids = []\n",
    "for i in range(max_k):\n",
    "    centroids.append(new_df.iloc[i])"
   ]
  },
  {
   "cell_type": "code",
   "execution_count": 12,
   "metadata": {},
   "outputs": [],
   "source": [
    "#create initial centroid values\n",
    "#measure distance from each point to each centroid \n",
    "    #Euclidean distance measure for k = # of class labels, x2, x3\n",
    "    #Manhatten distance measure for k = # of class labels, x2, x3\n",
    "#keep track of distance measures\n",
    "#assign the point to its closest centroid value\n",
    "#recompute centroid value to the mean of all the points assigned to it\n",
    "#restart process"
   ]
  },
  {
   "cell_type": "code",
   "execution_count": 13,
   "metadata": {},
   "outputs": [
    {
     "name": "stdout",
     "output_type": "stream",
     "text": [
      "[[0, 92556, 71683, 38596, 52420, 58667], [92556, 0, 75687, 75884, 72224, 64515], [71683, 75687, 0, 60289, 72321, 41380], [38596, 75884, 60289, 0, 39532, 56923], [52420, 72224, 72321, 39532, 0, 67847], [58667, 64515, 41380, 56923, 67847, 0], [43054, 79056, 62501, 30664, 50884, 53495], [36451, 75747, 63686, 35063, 51869, 51162], [83018, 80620, 30969, 68208, 73146, 53849], [58103, 59137, 51264, 48837, 60395, 33868], [54131, 67165, 49860, 48691, 65125, 38354], [88435, 57901, 112364, 83237, 74801, 80838], [55662, 92958, 58859, 47454, 59208, 77631], [61556, 59242, 73253, 53588, 48454, 54661], [59546, 85602, 64085, 45228, 52884, 78221], [47091, 77415, 52214, 42653, 52079, 55398], [81871, 78739, 65158, 64511, 73021, 79568], [55041, 68725, 83640, 45983, 53659, 58796], [43922, 78716, 66269, 38142, 45816, 57489], [97577, 116687, 86004, 95961, 103483, 115132], [69413, 93723, 90390, 65321, 72599, 92016], [48947, 79283, 71782, 40887, 52797, 56892], [51176, 70318, 54723, 50776, 69386, 25939], [41002, 80866, 59183, 33300, 49640, 67389], [76504, 66376, 109147, 69212, 75010, 86897], [36889, 79983, 70478, 34589, 49317, 63386], [39061, 80361, 74938, 43377, 56391, 49142], [147528, 103240, 159769, 135534, 119694, 136073], [76234, 73936, 90553, 64942, 68042, 64813], [224691, 171955, 239488, 215377, 199351, 213370], [209053, 157017, 224496, 200465, 184509, 198426], [125017, 79463, 137270, 112101, 113511, 116176], [137074, 88244, 148969, 124128, 111318, 127783], [132952, 110402, 149829, 124814, 109244, 122513], [191132, 137574, 205527, 181626, 165488, 179773], [127890, 98958, 143763, 119534, 109874, 116943], [141442, 89498, 155479, 131256, 128690, 128953], [181221, 131345, 196672, 172969, 156567, 170040], [45451, 85197, 83246, 52415, 69821, 60982], [50657, 82189, 84048, 53277, 67211, 58264], [72700, 69648, 96783, 62546, 66686, 78159], [42881, 64779, 65552, 34547, 37045, 53748], [67532, 99432, 73205, 60754, 67622, 95409], [43097, 76933, 66284, 42713, 57389, 54758], [39814, 75580, 64413, 22582, 44310, 55137], [59955, 74407, 83140, 49459, 42559, 59888], [33139, 90357, 66582, 39681, 51639, 58232], [48762, 72840, 81953, 40358, 54396, 62831], [48539, 76231, 79856, 40993, 55279, 58762], [56182, 76964, 88927, 48324, 60414, 61879], [73139, 80993, 107078, 73555, 79077, 79168], [48681, 70167, 80162, 46967, 53813, 64092], [70030, 83676, 73055, 54482, 55974, 80749], [65461, 81041, 77588, 47153, 57871, 80702], [93402, 47338, 108207, 91380, 80762, 81337], [55659, 67689, 73504, 43323, 46885, 48726], [43996, 74674, 69365, 41492, 52360, 45417], [60704, 81356, 72557, 47802, 53474, 55245], [162398, 132022, 179183, 153812, 143590, 151115], [180052, 128614, 188533, 169494, 160172, 162827], [177501, 131285, 193336, 169131, 154857, 166754], [184351, 134335, 199972, 176023, 161045, 173570], [106792, 112396, 122133, 99854, 90660, 105135], [119127, 112773, 139380, 113811, 100927, 111568], [130349, 101521, 146662, 123651, 119671, 119152], [99423, 102511, 118414, 92073, 79115, 88364], [104589, 68545, 120400, 100103, 97227, 95054], [127181, 82683, 145608, 120341, 109817, 115668], [62790, 64820, 88005, 56698, 61004, 60843], [165171, 115449, 180502, 156797, 146321, 156646], [110595, 98877, 113924, 97529, 99007, 98668], [152346, 116438, 168349, 143146, 130786, 145073]]\n"
     ]
    }
   ],
   "source": [
    "dist_vals = []\n",
    "for i in range(rows):\n",
    "    dist_centroid = []\n",
    "    for p in range(len(centroids)):\n",
    "        #euclidean= dist.euclidean(centroids[p],new_df.iloc[i])\n",
    "        #print(euclidean)\n",
    "        manhatten= dist.cityblock(centroids[p],new_df.iloc[i])\n",
    "        #print(manhatten)\n",
    "        dist_centroid.append(manhatten)\n",
    "    dist_vals.append(dist_centroid)\n",
    "print(dist_vals)    "
   ]
  },
  {
   "cell_type": "code",
   "execution_count": 14,
   "metadata": {},
   "outputs": [
    {
     "name": "stdout",
     "output_type": "stream",
     "text": [
      "Counter({3: 29, 1: 22, 4: 7, 0: 6, 5: 5, 2: 3})\n"
     ]
    }
   ],
   "source": [
    "clusters = []\n",
    "for i in range(len(dist_vals)):\n",
    "    minPosition = dist_vals[i].index(min(dist_vals[i]))\n",
    "    clusters.append(minPosition)\n",
    "    #print(minPosition)\n",
    "counter = Counter(clusters)\n",
    "print(counter)\n"
   ]
  },
  {
   "cell_type": "code",
   "execution_count": null,
   "metadata": {},
   "outputs": [],
   "source": []
  },
  {
   "cell_type": "code",
   "execution_count": null,
   "metadata": {},
   "outputs": [],
   "source": []
  }
 ],
 "metadata": {
  "kernelspec": {
   "display_name": "Python 3",
   "language": "python",
   "name": "python3"
  },
  "language_info": {
   "codemirror_mode": {
    "name": "ipython",
    "version": 3
   },
   "file_extension": ".py",
   "mimetype": "text/x-python",
   "name": "python",
   "nbconvert_exporter": "python",
   "pygments_lexer": "ipython3",
   "version": "3.7.4"
  }
 },
 "nbformat": 4,
 "nbformat_minor": 4
}
